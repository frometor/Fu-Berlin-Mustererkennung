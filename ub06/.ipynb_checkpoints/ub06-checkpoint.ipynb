{
 "cells": [
  {
   "cell_type": "code",
   "execution_count": 2,
   "metadata": {
    "collapsed": false
   },
   "outputs": [],
   "source": [
    "# -*- coding: utf-8 -*-\n",
    "\"\"\"\n",
    "Created on Tue Dec  1 12:48:38 2015\n",
    "\n",
    "@author: erik\n",
    "\"\"\"\n",
    "%matplotlib inline\n",
    "\n",
    "import matplotlib.pyplot as plt\n",
    "import pandas as pd\n",
    "import numpy as np\n",
    "\n",
    "#loadData\n",
    "fisherData = pd.read_csv(\"./fisher.txt\",delimiter=\",\", dtype={'names': ('X', 'Y','theClass'),\\\n",
    "'formats': ('i4','i4', 'i4')},index_col=False, names = ['x', 'y','theClass'])\n",
    "fisherData.head()\n",
    "\n",
    "allx=fisherData['x']\n",
    "ally=fisherData['y']\n",
    "theClass=fisherData['theClass']\n",
    "\n",
    "x0=[]\n",
    "x1=[]\n",
    "y0=[]\n",
    "y1=[]\n",
    "\n",
    "for i in range(len(fisherData)):\n",
    "    if (theClass[i]==0):\n",
    "        x0.append(allx[i])\n",
    "    if (theClass[i]==1):\n",
    "      x1.append(allx[i])\n",
    "\n",
    "for j in range(len(fisherData)):\n",
    "    if (theClass[j]==0):\n",
    "        y0.append(ally[j])\n",
    "    if (theClass[j]==1):\n",
    "      y1.append(ally[j])        \n",
    "\n",
    "        \n",
    "plt.plot (x0,y0,'ro')\n",
    "\n",
    "plt.plot (x1,y1,'^g')\n",
    "plt.show()\n",
    "\n"
   ]
  },
  {
   "cell_type": "code",
   "execution_count": 1,
   "metadata": {
    "collapsed": false
   },
   "outputs": [
    {
     "ename": "ValueError",
     "evalue": "The truth value of a Series is ambiguous. Use a.empty, a.bool(), a.item(), a.any() or a.all().",
     "output_type": "error",
     "traceback": [
      "\u001b[1;31m---------------------------------------------------------------------------\u001b[0m",
      "\u001b[1;31mValueError\u001b[0m                                Traceback (most recent call last)",
      "\u001b[1;32m<ipython-input-1-e7dcb4a8de2b>\u001b[0m in \u001b[0;36m<module>\u001b[1;34m()\u001b[0m\n\u001b[0;32m     22\u001b[0m     \u001b[1;32mif\u001b[0m \u001b[1;33m(\u001b[0m\u001b[0mtheClass\u001b[0m\u001b[1;33m[\u001b[0m\u001b[0mi\u001b[0m\u001b[1;33m]\u001b[0m\u001b[1;33m==\u001b[0m\u001b[1;36m0\u001b[0m\u001b[1;33m)\u001b[0m\u001b[1;33m:\u001b[0m\u001b[1;33m\u001b[0m\u001b[0m\n\u001b[0;32m     23\u001b[0m         \u001b[0mx0\u001b[0m\u001b[1;33m.\u001b[0m\u001b[0mappend\u001b[0m\u001b[1;33m(\u001b[0m\u001b[0mallx\u001b[0m\u001b[1;33m[\u001b[0m\u001b[0mi\u001b[0m\u001b[1;33m]\u001b[0m\u001b[1;33m)\u001b[0m\u001b[1;33m\u001b[0m\u001b[0m\n\u001b[1;32m---> 24\u001b[1;33m     \u001b[1;32mif\u001b[0m \u001b[1;33m(\u001b[0m\u001b[0mtheClass\u001b[0m\u001b[1;33m==\u001b[0m\u001b[1;36m1\u001b[0m\u001b[1;33m)\u001b[0m\u001b[1;33m:\u001b[0m\u001b[1;33m\u001b[0m\u001b[0m\n\u001b[0m\u001b[0;32m     25\u001b[0m       \u001b[0mx1\u001b[0m\u001b[1;33m.\u001b[0m\u001b[0mappend\u001b[0m\u001b[1;33m(\u001b[0m\u001b[0mallx\u001b[0m\u001b[1;33m[\u001b[0m\u001b[0mi\u001b[0m\u001b[1;33m]\u001b[0m\u001b[1;33m)\u001b[0m\u001b[1;33m\u001b[0m\u001b[0m\n\u001b[0;32m     26\u001b[0m \u001b[1;33m\u001b[0m\u001b[0m\n",
      "\u001b[1;32m/home/erik/anaconda3/lib/python3.4/site-packages/pandas/core/generic.py\u001b[0m in \u001b[0;36m__nonzero__\u001b[1;34m(self)\u001b[0m\n\u001b[0;32m    712\u001b[0m         raise ValueError(\"The truth value of a {0} is ambiguous. \"\n\u001b[0;32m    713\u001b[0m                          \u001b[1;34m\"Use a.empty, a.bool(), a.item(), a.any() or a.all().\"\u001b[0m\u001b[1;33m\u001b[0m\u001b[0m\n\u001b[1;32m--> 714\u001b[1;33m                          .format(self.__class__.__name__))\n\u001b[0m\u001b[0;32m    715\u001b[0m \u001b[1;33m\u001b[0m\u001b[0m\n\u001b[0;32m    716\u001b[0m     \u001b[0m__bool__\u001b[0m \u001b[1;33m=\u001b[0m \u001b[0m__nonzero__\u001b[0m\u001b[1;33m\u001b[0m\u001b[0m\n",
      "\u001b[1;31mValueError\u001b[0m: The truth value of a Series is ambiguous. Use a.empty, a.bool(), a.item(), a.any() or a.all()."
     ]
    }
   ],
   "source": [
    "# -*- coding: utf-8 -*-\n",
    "\"\"\"\n",
    "Created on Tue Dec  1 12:48:38 2015\n",
    "\n",
    "@author: erik\n",
    "\"\"\"\n",
    "import matplotlib.pyplot as plt\n",
    "import pandas as pd\n",
    "import numpy as np\n",
    "\n",
    "#loadData\n",
    "fisherData = pd.read_csv(\"./fisher.txt\",delimiter=\",\", dtype={'names': ('X', 'Y','theClass'),\\\n",
    "'formats': ('i4','i4', 'i4')},index_col=False, names = ['x', 'y','theClass'])\n",
    "fisherData.head()\n",
    "\n",
    "allx=fisherData['x']\n",
    "ally=fisherData['y']\n",
    "theClass=fisherData['theClass']\n",
    "\n",
    "x0=[]\n",
    "x1=[]\n",
    "for i in range(len(fisherData)):\n",
    "    if (theClass[i]==0):\n",
    "        x0.append(allx[i])\n",
    "    if (theClass==1):\n",
    "      x1.append(allx[i])\n",
    "        \n",
    "\n",
    "        \n",
    "#plt.plot (x0,y0,'ro')\n",
    "\n",
    "#plt.plot (x1,y1,'^g')\n",
    "#plt.show()\n",
    "\n",
    "print(fisherData['Class'])"
   ]
  },
  {
   "cell_type": "code",
   "execution_count": null,
   "metadata": {
    "collapsed": true
   },
   "outputs": [],
   "source": []
  }
 ],
 "metadata": {
  "kernelspec": {
   "display_name": "Python 3",
   "language": "python",
   "name": "python3"
  },
  "language_info": {
   "codemirror_mode": {
    "name": "ipython",
    "version": 3
   },
   "file_extension": ".py",
   "mimetype": "text/x-python",
   "name": "python",
   "nbconvert_exporter": "python",
   "pygments_lexer": "ipython3",
   "version": "3.4.3"
  }
 },
 "nbformat": 4,
 "nbformat_minor": 0
}
