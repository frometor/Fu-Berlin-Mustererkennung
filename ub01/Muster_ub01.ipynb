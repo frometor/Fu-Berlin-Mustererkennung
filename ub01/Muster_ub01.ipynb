{
 "cells": [
  {
   "cell_type": "code",
   "execution_count": 13,
   "metadata": {
    "collapsed": false
   },
   "outputs": [
    {
     "name": "stdout",
     "output_type": "stream",
     "text": [
      "data.shape:  (70000, 784)\n",
      "target.shape:  (70000,)\n",
      "1.0\n",
      "3.0\n",
      "0.0\n",
      "5.0\n",
      "5.0\n",
      "3.0\n",
      "9.0\n",
      "9.0\n",
      "8.0\n",
      "0.0\n"
     ]
    },
    {
     "data": {
      "image/png": "[encoded data removed]",
      "text/plain": [
       "<matplotlib.figure.Figure at 0x7f7ea60f3908>"
      ]
     },
     "metadata": {},
     "output_type": "display_data"
    }
   ],
   "source": [
    "%matplotlib inline\n",
    "import random\n",
    "import sys\n",
    "import numpy as np\n",
    "import matplotlib.pyplot as plt\n",
    "from sklearn.datasets import fetch_mldata\n",
    "import matplotlib.cm as cm\n",
    "customhome = '~/Documents/Mustererkennung/ub01'\n",
    "\n",
    "mnist_dt = fetch_mldata('MNIST original', data_home= customhome).data\n",
    "mnist_tg = fetch_mldata('MNIST original', data_home= customhome).target\n",
    "\n",
    "print('data.shape: ', mnist_dt.shape)\n",
    "print('target.shape: ',mnist_tg.shape)\n",
    "\n",
    "cnt = 1\n",
    "for i in range (1, 3):\n",
    "    for j in range (1, 6):\n",
    "        plt.subplot(2,5, cnt)\n",
    "        rand =random.randint(1,70000)\n",
    "        print (mnist_tg[rand])\n",
    "        plt.imshow(mnist_dt[rand].reshape((28, 28)),cmap=cm.Greys_r)\n",
    "        plt.axis('off')\n",
    "        cnt+=1\n",
    "plt.show()"
   ]
  },
  {
   "cell_type": "code",
   "execution_count": 2,
   "metadata": {
    "collapsed": false
   },
   "outputs": [
    {
     "name": "stdout",
     "output_type": "stream",
     "text": [
      "k =  1\n",
      "             precision    recall  f1-score   support\n",
      "\n",
      "        0.0       0.98      1.00      0.99       118\n",
      "        1.0       0.97      1.00      0.98       118\n",
      "        2.0       0.99      0.93      0.96       103\n",
      "        3.0       0.89      0.93      0.91       108\n",
      "        4.0       0.91      0.94      0.93        88\n",
      "        5.0       0.86      0.91      0.88        76\n",
      "        6.0       0.96      1.00      0.98        85\n",
      "        7.0       0.95      0.96      0.95        96\n",
      "        8.0       0.99      0.85      0.91        99\n",
      "        9.0       0.92      0.90      0.91       109\n",
      "\n",
      "avg / total       0.94      0.94      0.94      1000\n",
      "\n"
     ]
    }
   ],
   "source": [
    "from sklearn.utils import shuffle\n",
    "from sklearn.datasets import fetch_mldata\n",
    "from sklearn.cross_validation import train_test_split\n",
    "              \n",
    "customhome = '~/Documents/Mustererkennung/ub01'\n",
    "\n",
    "mnist = fetch_mldata('MNIST original', data_home= customhome)\n",
    "mnist.data, mnist.target = shuffle(mnist.data, mnist.target)\n",
    "\n",
    "#nur 10.000 Werte\n",
    "mnist.data = mnist.data[:10000]\n",
    "mnist.target = mnist.target[:10000]\n",
    "\n",
    "X_train, X_test, y_train, y_test = train_test_split(mnist.data, mnist.\n",
    "target, test_size=0.1, random_state=0)\n",
    "\n",
    "from sklearn.neighbors import KNeighborsClassifier\n",
    "from sklearn.metrics import classification_report\n",
    "k = 1\n",
    "clf = KNeighborsClassifier(n_neighbors=k)\n",
    "clf.fit(X_train, y_train)\n",
    "y_pred = clf.predict(X_test)\n",
    "\n",
    "\n",
    "print ('k = ',k)\n",
    "print (classification_report(y_test, y_pred))"
   ]
  },
  {
   "cell_type": "code",
   "execution_count": 12,
   "metadata": {
    "collapsed": false
   },
   "outputs": [
    {
     "name": "stdout",
     "output_type": "stream",
     "text": [
      "k =  3\n",
      "             precision    recall  f1-score   support\n",
      "\n",
      "        0.0       0.96      0.98      0.97       109\n",
      "        1.0       0.90      1.00      0.95       101\n",
      "        2.0       0.98      0.89      0.93        97\n",
      "        3.0       0.94      0.90      0.92       101\n",
      "        4.0       0.94      0.97      0.95       107\n",
      "        5.0       0.90      0.95      0.92        91\n",
      "        6.0       0.99      0.98      0.99       113\n",
      "        7.0       0.92      0.94      0.93        86\n",
      "        8.0       1.00      0.86      0.92        85\n",
      "        9.0       0.92      0.93      0.92       110\n",
      "\n",
      "avg / total       0.94      0.94      0.94      1000\n",
      "\n"
     ]
    }
   ],
   "source": [
    "from sklearn.utils import shuffle\n",
    "from sklearn.datasets import fetch_mldata\n",
    "from sklearn.cross_validation import train_test_split\n",
    "              \n",
    "customhome = '~/Documents/Mustererkennung/ub01'\n",
    "\n",
    "mnist = fetch_mldata('MNIST original', data_home= customhome)\n",
    "mnist.data, mnist.target = shuffle(mnist.data, mnist.target)\n",
    "\n",
    "#nur 10.000 Werte\n",
    "mnist.data = mnist.data[:10000]\n",
    "mnist.target = mnist.target[:10000]\n",
    "\n",
    "X_train, X_test, y_train, y_test = train_test_split(mnist.data, mnist.\n",
    "target, test_size=0.1, random_state=0)\n",
    "\n",
    "from sklearn.neighbors import KNeighborsClassifier\n",
    "from sklearn.metrics import classification_report\n",
    "k = 3\n",
    "clf = KNeighborsClassifier(n_neighbors=k)\n",
    "clf.fit(X_train, y_train)\n",
    "y_pred = clf.predict(X_test)\n",
    "\n",
    "\n",
    "print ('k = ',k)\n",
    "print (classification_report(y_test, y_pred))"
   ]
  },
  {
   "cell_type": "code",
   "execution_count": 13,
   "metadata": {
    "collapsed": false
   },
   "outputs": [
    {
     "name": "stdout",
     "output_type": "stream",
     "text": [
      "k =  11\n",
      "             precision    recall  f1-score   support\n",
      "\n",
      "        0.0       0.94      0.98      0.96       102\n",
      "        1.0       0.93      1.00      0.96       119\n",
      "        2.0       0.97      0.91      0.94        69\n",
      "        3.0       0.94      0.97      0.96       121\n",
      "        4.0       0.95      0.93      0.94        92\n",
      "        5.0       0.97      0.92      0.95       103\n",
      "        6.0       0.95      0.95      0.95       104\n",
      "        7.0       0.97      0.95      0.96       100\n",
      "        8.0       0.96      0.87      0.91        75\n",
      "        9.0       0.91      0.93      0.92       115\n",
      "\n",
      "avg / total       0.95      0.95      0.95      1000\n",
      "\n"
     ]
    }
   ],
   "source": [
    "from sklearn.utils import shuffle\n",
    "from sklearn.datasets import fetch_mldata\n",
    "from sklearn.cross_validation import train_test_split\n",
    "              \n",
    "customhome = '~/Documents/Mustererkennung/ub01'\n",
    "\n",
    "mnist = fetch_mldata('MNIST original', data_home= customhome)\n",
    "mnist.data, mnist.target = shuffle(mnist.data, mnist.target)\n",
    "\n",
    "#nur 10.000 Werte\n",
    "mnist.data = mnist.data[:10000]\n",
    "mnist.target = mnist.target[:10000]\n",
    "\n",
    "X_train, X_test, y_train, y_test = train_test_split(mnist.data, mnist.\n",
    "target, test_size=0.1, random_state=0)\n",
    "\n",
    "from sklearn.neighbors import KNeighborsClassifier\n",
    "from sklearn.metrics import classification_report\n",
    "k = 11\n",
    "clf = KNeighborsClassifier(n_neighbors=k)\n",
    "clf.fit(X_train, y_train)\n",
    "y_pred = clf.predict(X_test)\n",
    "\n",
    "\n",
    "print ('k = ',k)\n",
    "print (classification_report(y_test, y_pred))"
   ]
  },
  {
   "cell_type": "code",
   "execution_count": null,
   "metadata": {
    "collapsed": true
   },
   "outputs": [],
   "source": []
  }
 ],
 "metadata": {
  "kernelspec": {
   "display_name": "Python 3",
   "language": "python",
   "name": "python3"
  },
  "language_info": {
   "codemirror_mode": {
    "name": "ipython",
    "version": 3
   },
   "file_extension": ".py",
   "mimetype": "text/x-python",
   "name": "python",
   "nbconvert_exporter": "python",
   "pygments_lexer": "ipython3",
   "version": "3.4.3"
  }
 },
 "nbformat": 4,
 "nbformat_minor": 0
}
